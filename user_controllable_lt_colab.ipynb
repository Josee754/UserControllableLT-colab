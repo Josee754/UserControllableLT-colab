{
  "cells": [
    {
      "cell_type": "markdown",
      "metadata": {
        "id": "view-in-github"
      },
      "source": [
        "[![Open In Colab](https://colab.research.google.com/assets/colab-badge.svg)](https://colab.research.google.com/github/camenduru/UserControllableLT-colab/blob/main/user_controllable_lt_colab.ipynb)"
      ]
    },
    {
      "cell_type": "code",
      "execution_count": null,
      "metadata": {
        "id": "-nbi7KsyXDHQ"
      },
      "outputs": [],
      "source": [
        "%cd /content\n",
        "!apt -y install -qq aria2\n",
        "!git clone https://github.com/camenduru/UserControllableLT\n",
        "!sudo apt-get install ninja-build\n",
        "!pip install einops\n",
        "\n",
        "!aria2c --console-log-level=error -c -x 16 -s 16 -k 1M https://huggingface.co/camenduru/UserControllableLT/resolve/main/stylegan2-ffhq-config-f.pt -d /content/models -o stylegan2-ffhq-config-f.pt\n",
        "!aria2c --console-log-level=error -c -x 16 -s 16 -k 1M https://huggingface.co/camenduru/UserControllableLT/resolve/main/stylegan2-church-config-f.pt -d /content/models -o stylegan2-church-config-f.pt\n",
        "!aria2c --console-log-level=error -c -x 16 -s 16 -k 1M https://huggingface.co/camenduru/UserControllableLT/resolve/main/stylegan2-cat-config-f.pt -d /content/models -o stylegan2-cat-config-f.pt\n",
        "!aria2c --console-log-level=error -c -x 16 -s 16 -k 1M https://huggingface.co/camenduru/UserControllableLT/resolve/main/stylegan2-car-config-f.pt -d /content/models -o stylegan2-car-config-f.pt\n",
        "!aria2c --console-log-level=error -c -x 16 -s 16 -k 1M https://huggingface.co/camenduru/UserControllableLT/resolve/main/2020-01-11-skylion-stylegan2-animeportraits-networksnapshot-024664.pt -d /content/models -o 2020-01-11-skylion-stylegan2-animeportraits-networksnapshot-024664.pt\n",
        "!aria2c --console-log-level=error -c -x 16 -s 16 -k 1M https://huggingface.co/camenduru/UserControllableLT/resolve/main/latent_transformer/anime.pt -d /content/models/latent_transformer -o anime.pt\n",
        "!aria2c --console-log-level=error -c -x 16 -s 16 -k 1M https://huggingface.co/camenduru/UserControllableLT/resolve/main/latent_transformer/car.pt -d /content/models/latent_transformer -o car.pt\n",
        "!aria2c --console-log-level=error -c -x 16 -s 16 -k 1M https://huggingface.co/camenduru/UserControllableLT/resolve/main/latent_transformer/cat.pt -d /content/models/latent_transformer -o cat.pt\n",
        "!aria2c --console-log-level=error -c -x 16 -s 16 -k 1M https://huggingface.co/camenduru/UserControllableLT/resolve/main/latent_transformer/church.pt -d /content/models/latent_transformer -o church.pt\n",
        "!aria2c --console-log-level=error -c -x 16 -s 16 -k 1M https://huggingface.co/camenduru/UserControllableLT/resolve/main/latent_transformer/ffhq.pt -d /content/models/latent_transformer -o ffhq.pt\n",
        "!aria2c --console-log-level=error -c -x 16 -s 16 -k 1M https://huggingface.co/camenduru/UserControllableLT/resolve/main/optical_expansion/robust.pth -d /content/models/optical_expansion -o robust.pth"
      ]
    },
    {
      "cell_type": "code",
      "execution_count": 4,
      "metadata": {
        "id": "tQGOyH65ZROB"
      },
      "outputs": [],
      "source": [
        "!npm install -g localtunnel\n",
        "\n",
        "import subprocess\n",
        "import threading\n",
        "import time\n",
        "import socket\n",
        "import urllib.request\n",
        "\n",
        "def iframe_thread(port):\n",
        "  while True:\n",
        "      time.sleep(0.5)\n",
        "      sock = socket.socket(socket.AF_INET, socket.SOCK_STREAM)\n",
        "      result = sock.connect_ex(('127.0.0.1', port))\n",
        "      if result == 0:\n",
        "        break\n",
        "      sock.close()\n",
        "  print(\"\\nComfyUI finished loading, trying to launch localtunnel (if it gets stuck here localtunnel is having issues)\\n\")\n",
        "\n",
        "  print(\"The password/enpoint ip for localtunnel is:\", urllib.request.urlopen('https://ipv4.icanhazip.com').read().decode('utf8').strip(\"\\n\"))\n",
        "  p = subprocess.Popen([\"lt\", \"--port\", \"{}\".format(port)], stdout=subprocess.PIPE)\n",
        "  for line in p.stdout:\n",
        "    print(line.decode(), end='')\n",
        "\n",
        "\n",
        "threading.Thread(target=iframe_thread, daemon=True, args=(8000,)).start()\n",
        "\n",
        "%cd /content/UserControllableLT\n",
        "!python interface/flask_app.py --checkpoint_path=/content/models/latent_transformer/cat.pt\n",
        "# !python interface/flask_app.py --checkpoint_path=/content/models/latent_transformer/anime.pt\n",
        "# !python interface/flask_app.py --checkpoint_path=/content/models/latent_transformer/car.pt\n",
        "# !python interface/flask_app.py --checkpoint_path=/content/models/latent_transformer/church.pt\n",
        "# !python interface/flask_app.py --checkpoint_path=/content/models/latent_transformer/ffhq.pt"
      ]
    }
  ],
  "metadata": {
    "accelerator": "GPU",
    "colab": {
      "gpuType": "T4",
      "provenance": []
    },
    "gpuClass": "standard",
    "kernelspec": {
      "display_name": "Python 3",
      "name": "python3"
    },
    "language_info": {
      "name": "python"
    }
  },
  "nbformat": 4,
  "nbformat_minor": 0
}
